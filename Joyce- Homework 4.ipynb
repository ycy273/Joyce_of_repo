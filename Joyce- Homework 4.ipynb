{
 "cells": [
  {
   "cell_type": "markdown",
   "metadata": {},
   "source": [
    "## Problem 1- Dictionaries ##"
   ]
  },
  {
   "cell_type": "code",
   "execution_count": null,
   "metadata": {},
   "outputs": [],
   "source": [
    "dictionary = {'Dictionary': 'A collection of key-value pairs.',\n",
    "        \"String\": \"A series of characters.\",\n",
    "       \"Boolean Expression\": \"An expression that evaluates to True or False.\",\n",
    "       \"Comment\": \"A note in a program that the Python interpreter ignores.\",\n",
    "       \"Value\": \"An item associated with a key in a dictionary.\",\n",
    "       \"Loop\": \"Work through a collection of items, one at a time.\",\n",
    "       \"List\": \"A collection of items in a particular order.\",\n",
    "       \"Key\": \"The first item in a key-value pair in a dictionary.\",\n",
    "       \"Float\": \"A numerical value with a decimal component.\"}"
   ]
  },
  {
   "cell_type": "code",
   "execution_count": 3,
   "metadata": {},
   "outputs": [
    {
     "name": "stdout",
     "output_type": "stream",
     "text": [
      "{'Boolean Expression': 'An expression that evaluates to True or False.', 'Comment': 'A note in a program that the Python interpreter ignores.', 'Loop': 'Work through a collection of items, one at a time.', 'String': 'A series of characters.', 'Dictionary': 'A collection of key-value pairs.', 'Float': 'A numerical value with a decimal component.', 'List': 'A collection of items in a particular order.', 'Value': 'An item associated with a key in a dictionary.', 'Key': 'The first item in a key-value pair in a dictionary.'}\n"
     ]
    }
   ],
   "source": [
    "print dictionary"
   ]
  },
  {
   "cell_type": "code",
   "execution_count": 15,
   "metadata": {},
   "outputs": [
    {
     "name": "stdout",
     "output_type": "stream",
     "text": [
      "Boolean Expression: An expression that evaluates to True or False.\n",
      "\n",
      "Comment: A note in a program that the Python interpreter ignores.\n",
      "\n",
      "Loop: Work through a collection of items, one at a time.\n",
      "\n",
      "String: A series of characters.\n",
      "\n",
      "Dictionary: A collection of key-value pairs.\n",
      "\n",
      "Float: A numerical value with a decimal component.\n",
      "\n",
      "List: A collection of items in a particular order.\n",
      "\n",
      "Value: An item associated with a key in a dictionary.\n",
      "\n",
      "Key: The first item in a key-value pair in a dictionary.\n",
      "\n"
     ]
    }
   ],
   "source": [
    "for k, v in dictionary.items():\n",
    "    print('{}: {}'.format(k,v) + '\\n')"
   ]
  },
  {
   "cell_type": "markdown",
   "metadata": {},
   "source": [
    "## Problem 2- Sets ##"
   ]
  },
  {
   "cell_type": "code",
   "execution_count": 16,
   "metadata": {},
   "outputs": [
    {
     "data": {
      "text/plain": [
       "({'Before I Go To Sleep',\n",
       "  'Coco',\n",
       "  'Gone Girl',\n",
       "  'Lion',\n",
       "  'Miracle in Cell No. 7',\n",
       "  'The Girl On The Train',\n",
       "  'The Invisible Man',\n",
       "  'The Judge',\n",
       "  'The Others',\n",
       "  'Triangle'},\n",
       " {'Coco',\n",
       "  'Harry Potter',\n",
       "  'Lion',\n",
       "  'Miracle in Cell No. 7',\n",
       "  'Moana',\n",
       "  'Sister',\n",
       "  'The Little Mermaid',\n",
       "  'The Little Prince',\n",
       "  'The Phantom of The Opera',\n",
       "  'Wonder'})"
      ]
     },
     "execution_count": 16,
     "metadata": {},
     "output_type": "execute_result"
    }
   ],
   "source": [
    "joyce = set([\"Miracle in Cell No. 7\",\"Lion\",\"Coco\",\"The Others\",\"The Judge\",\"Triangle\",\"The Invisible Man\",\"Gone Girl\",\"Before I Go To Sleep\",\"The Girl On The Train\"])\n",
    "deanna = set([\"Harry Potter\",\"The Little Prince\",\"Coco\",\"Lion\",\"Moana\",\"The Little Mermaid\",\"Sister\",\"The Phantom of The Opera\",\"Wonder\",\"Miracle in Cell No. 7\"])\n",
    "\n",
    "joyce, deanna"
   ]
  },
  {
   "cell_type": "markdown",
   "metadata": {},
   "source": [
    "#### What favorite movies do you have in common with the other person? ####"
   ]
  },
  {
   "cell_type": "code",
   "execution_count": 17,
   "metadata": {},
   "outputs": [
    {
     "data": {
      "text/plain": [
       "{'Coco', 'Lion', 'Miracle in Cell No. 7'}"
      ]
     },
     "execution_count": 17,
     "metadata": {},
     "output_type": "execute_result"
    }
   ],
   "source": [
    "joyce.intersection(deanna)"
   ]
  },
  {
   "cell_type": "markdown",
   "metadata": {},
   "source": [
    "#### What movies are your favorite but aren't the other persons? ### #"
   ]
  },
  {
   "cell_type": "code",
   "execution_count": 18,
   "metadata": {},
   "outputs": [
    {
     "data": {
      "text/plain": [
       "{'Before I Go To Sleep',\n",
       " 'Gone Girl',\n",
       " 'The Girl On The Train',\n",
       " 'The Invisible Man',\n",
       " 'The Judge',\n",
       " 'The Others',\n",
       " 'Triangle'}"
      ]
     },
     "execution_count": 18,
     "metadata": {},
     "output_type": "execute_result"
    }
   ],
   "source": [
    "joyce.difference(deanna)"
   ]
  },
  {
   "cell_type": "markdown",
   "metadata": {},
   "source": [
    "## Problem 3- Tuples ##"
   ]
  },
  {
   "cell_type": "code",
   "execution_count": 22,
   "metadata": {},
   "outputs": [],
   "source": [
    "major_tasks = 'Wake up','Eat breakfast','Coding','Go boxing','Eat lunch','Go to class','Eat dinner','Watch TV series','Sleep'"
   ]
  },
  {
   "cell_type": "code",
   "execution_count": 36,
   "metadata": {},
   "outputs": [],
   "source": [
    "def joyce_daily(major_tasks):\n",
    "        print(\"Usually, I'll {} at 10 and {}, and I'll begin {} when having my breakfast. Then I'l leave home at 12 to {}, and after boxing I'll return home to {}. My class start at 3 so I'll leave at 2 to {}, and after the class I {} and {}. Usually, I {} at 2 am.\".format(*major_tasks))"
   ]
  },
  {
   "cell_type": "code",
   "execution_count": 37,
   "metadata": {},
   "outputs": [
    {
     "name": "stdout",
     "output_type": "stream",
     "text": [
      "Usually, I'll Wake up at 10 and Eat breakfast, and I'll begin Coding when having my breakfast. Then I'l leave home at 12 to Go boxing, and after boxing I'll return home to Eat lunch. My class start at 3 so I'll leave at 2 to Go to class, and after the class I Eat dinner and Watch TV series. Usually, I Sleep at 2 am.\n"
     ]
    }
   ],
   "source": [
    "joyce_daily(major_tasks)"
   ]
  }
 ],
 "metadata": {
  "kernelspec": {
   "display_name": "Python 2",
   "language": "python",
   "name": "python2"
  },
  "language_info": {
   "codemirror_mode": {
    "name": "ipython",
    "version": 2
   },
   "file_extension": ".py",
   "mimetype": "text/x-python",
   "name": "python",
   "nbconvert_exporter": "python",
   "pygments_lexer": "ipython2",
   "version": "2.7.14"
  }
 },
 "nbformat": 4,
 "nbformat_minor": 2
}
